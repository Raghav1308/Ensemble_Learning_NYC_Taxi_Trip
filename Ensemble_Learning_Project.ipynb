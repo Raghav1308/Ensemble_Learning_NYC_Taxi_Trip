{
 "cells": [
  {
   "cell_type": "markdown",
   "id": "a1878693",
   "metadata": {},
   "source": [
    "## We are provided with the NYC Taxi Trip Dataset. This dataset contains information about the taxi trips that took place in different parts of New York City and how much time did that trip take to complete.\n",
    "\n",
    "## In this project we have the following tasks as follows:-\n",
    "### 1. Build a K-Nearest neighbours model for the given dataset and find the best value of K. \n",
    "### 2. Build a Linear model for the given dataset with regularisation. \n",
    "### 3. Build a Random Forest model for the given dataset. \n",
    "### 4. Build a Gradient Boosting model for the given dataset. \n",
    "### 5. Combine all the models above using the averaging technique to generate the final predictions."
   ]
  },
  {
   "cell_type": "code",
   "execution_count": 1,
   "id": "24abb03b",
   "metadata": {},
   "outputs": [],
   "source": [
    "import pandas as pd\n",
    "import numpy as np\n",
    "\n",
    "from sklearn.preprocessing import MinMaxScaler, LabelEncoder\n",
    "import geopy.distance\n",
    "\n",
    "from sklearn.model_selection import train_test_split\n",
    "\n",
    "from sklearn.neighbors import KNeighborsRegressor\n",
    "from sklearn.linear_model import LinearRegression\n",
    "from sklearn.linear_model import Ridge\n",
    "from sklearn.ensemble import RandomForestRegressor\n",
    "from xgboost import XGBRegressor\n",
    "\n",
    "from sklearn.metrics import mean_squared_error\n",
    "from math import sqrt\n",
    "from sklearn.metrics import r2_score\n",
    "\n",
    "import matplotlib.pyplot as plt\n",
    "import seaborn as sns\n",
    "%matplotlib inline\n",
    "\n",
    "import datetime as dt\n",
    "import warnings\n",
    "warnings.filterwarnings('ignore')"
   ]
  },
  {
   "cell_type": "code",
   "execution_count": 2,
   "id": "a61efdf7",
   "metadata": {},
   "outputs": [],
   "source": [
    "data = pd.read_csv('nyc_taxi_trip_duration_dataset.csv')"
   ]
  },
  {
   "cell_type": "markdown",
   "id": "139bae3c",
   "metadata": {},
   "source": [
    "## Performing Exploratory Data Analysis and Feature Engineering"
   ]
  },
  {
   "cell_type": "markdown",
   "id": "a166db88",
   "metadata": {},
   "source": [
    "## Dataset Variables\n",
    "### Dataset Variables are as follows :\n",
    "#### ● vendor_id - code indicating provider associated with the trip record\n",
    "#### ● id - unique identifier for each trip\n",
    "#### ● pickup_datetime - date and time when the trip started\n",
    "#### ● dropoff_datetime - date and time when the trip ended\n",
    "#### ● passenger_count - number of passengers present during the trip\n",
    "#### ● pickup_longitude - the longitude where the trip was started\n",
    "#### ● pickup_latitude - the latitude where the trip was started\n",
    "#### ● dropoff_longitude - the longitude where the trip was ended\n",
    "#### ● dropoff_latitude - the latitude where the trip was ended\n",
    "#### ● store_and_fwd_flag - The flag indicates that whether the connection during the trip with vehicle and vendor was lost due to any technical issue or not\n",
    "#### ● trip_duration - duration of trip in seconds"
   ]
  },
  {
   "cell_type": "code",
   "execution_count": 3,
   "id": "48662ced",
   "metadata": {},
   "outputs": [
    {
     "data": {
      "text/html": [
       "<div>\n",
       "<style scoped>\n",
       "    .dataframe tbody tr th:only-of-type {\n",
       "        vertical-align: middle;\n",
       "    }\n",
       "\n",
       "    .dataframe tbody tr th {\n",
       "        vertical-align: top;\n",
       "    }\n",
       "\n",
       "    .dataframe thead th {\n",
       "        text-align: right;\n",
       "    }\n",
       "</style>\n",
       "<table border=\"1\" class=\"dataframe\">\n",
       "  <thead>\n",
       "    <tr style=\"text-align: right;\">\n",
       "      <th></th>\n",
       "      <th>id</th>\n",
       "      <th>vendor_id</th>\n",
       "      <th>pickup_datetime</th>\n",
       "      <th>dropoff_datetime</th>\n",
       "      <th>passenger_count</th>\n",
       "      <th>pickup_longitude</th>\n",
       "      <th>pickup_latitude</th>\n",
       "      <th>dropoff_longitude</th>\n",
       "      <th>dropoff_latitude</th>\n",
       "      <th>store_and_fwd_flag</th>\n",
       "      <th>trip_duration</th>\n",
       "    </tr>\n",
       "  </thead>\n",
       "  <tbody>\n",
       "    <tr>\n",
       "      <th>0</th>\n",
       "      <td>id1080784</td>\n",
       "      <td>2</td>\n",
       "      <td>2016-02-29 16:40:21</td>\n",
       "      <td>2016-02-29 16:47:01</td>\n",
       "      <td>1</td>\n",
       "      <td>-73.953918</td>\n",
       "      <td>40.778873</td>\n",
       "      <td>-73.963875</td>\n",
       "      <td>40.771164</td>\n",
       "      <td>N</td>\n",
       "      <td>400</td>\n",
       "    </tr>\n",
       "    <tr>\n",
       "      <th>1</th>\n",
       "      <td>id0889885</td>\n",
       "      <td>1</td>\n",
       "      <td>2016-03-11 23:35:37</td>\n",
       "      <td>2016-03-11 23:53:57</td>\n",
       "      <td>2</td>\n",
       "      <td>-73.988312</td>\n",
       "      <td>40.731743</td>\n",
       "      <td>-73.994751</td>\n",
       "      <td>40.694931</td>\n",
       "      <td>N</td>\n",
       "      <td>1100</td>\n",
       "    </tr>\n",
       "    <tr>\n",
       "      <th>2</th>\n",
       "      <td>id0857912</td>\n",
       "      <td>2</td>\n",
       "      <td>2016-02-21 17:59:33</td>\n",
       "      <td>2016-02-21 18:26:48</td>\n",
       "      <td>2</td>\n",
       "      <td>-73.997314</td>\n",
       "      <td>40.721458</td>\n",
       "      <td>-73.948029</td>\n",
       "      <td>40.774918</td>\n",
       "      <td>N</td>\n",
       "      <td>1635</td>\n",
       "    </tr>\n",
       "    <tr>\n",
       "      <th>3</th>\n",
       "      <td>id3744273</td>\n",
       "      <td>2</td>\n",
       "      <td>2016-01-05 09:44:31</td>\n",
       "      <td>2016-01-05 10:03:32</td>\n",
       "      <td>6</td>\n",
       "      <td>-73.961670</td>\n",
       "      <td>40.759720</td>\n",
       "      <td>-73.956779</td>\n",
       "      <td>40.780628</td>\n",
       "      <td>N</td>\n",
       "      <td>1141</td>\n",
       "    </tr>\n",
       "    <tr>\n",
       "      <th>4</th>\n",
       "      <td>id0232939</td>\n",
       "      <td>1</td>\n",
       "      <td>2016-02-17 06:42:23</td>\n",
       "      <td>2016-02-17 06:56:31</td>\n",
       "      <td>1</td>\n",
       "      <td>-74.017120</td>\n",
       "      <td>40.708469</td>\n",
       "      <td>-73.988182</td>\n",
       "      <td>40.740631</td>\n",
       "      <td>N</td>\n",
       "      <td>848</td>\n",
       "    </tr>\n",
       "  </tbody>\n",
       "</table>\n",
       "</div>"
      ],
      "text/plain": [
       "          id  vendor_id      pickup_datetime     dropoff_datetime  \\\n",
       "0  id1080784          2  2016-02-29 16:40:21  2016-02-29 16:47:01   \n",
       "1  id0889885          1  2016-03-11 23:35:37  2016-03-11 23:53:57   \n",
       "2  id0857912          2  2016-02-21 17:59:33  2016-02-21 18:26:48   \n",
       "3  id3744273          2  2016-01-05 09:44:31  2016-01-05 10:03:32   \n",
       "4  id0232939          1  2016-02-17 06:42:23  2016-02-17 06:56:31   \n",
       "\n",
       "   passenger_count  pickup_longitude  pickup_latitude  dropoff_longitude  \\\n",
       "0                1        -73.953918        40.778873         -73.963875   \n",
       "1                2        -73.988312        40.731743         -73.994751   \n",
       "2                2        -73.997314        40.721458         -73.948029   \n",
       "3                6        -73.961670        40.759720         -73.956779   \n",
       "4                1        -74.017120        40.708469         -73.988182   \n",
       "\n",
       "   dropoff_latitude store_and_fwd_flag  trip_duration  \n",
       "0         40.771164                  N            400  \n",
       "1         40.694931                  N           1100  \n",
       "2         40.774918                  N           1635  \n",
       "3         40.780628                  N           1141  \n",
       "4         40.740631                  N            848  "
      ]
     },
     "execution_count": 3,
     "metadata": {},
     "output_type": "execute_result"
    }
   ],
   "source": [
    "data.head()"
   ]
  },
  {
   "cell_type": "code",
   "execution_count": 4,
   "id": "50aebc3f",
   "metadata": {},
   "outputs": [
    {
     "data": {
      "text/html": [
       "<div>\n",
       "<style scoped>\n",
       "    .dataframe tbody tr th:only-of-type {\n",
       "        vertical-align: middle;\n",
       "    }\n",
       "\n",
       "    .dataframe tbody tr th {\n",
       "        vertical-align: top;\n",
       "    }\n",
       "\n",
       "    .dataframe thead th {\n",
       "        text-align: right;\n",
       "    }\n",
       "</style>\n",
       "<table border=\"1\" class=\"dataframe\">\n",
       "  <thead>\n",
       "    <tr style=\"text-align: right;\">\n",
       "      <th></th>\n",
       "      <th>id</th>\n",
       "      <th>vendor_id</th>\n",
       "      <th>pickup_datetime</th>\n",
       "      <th>dropoff_datetime</th>\n",
       "      <th>passenger_count</th>\n",
       "      <th>pickup_longitude</th>\n",
       "      <th>pickup_latitude</th>\n",
       "      <th>dropoff_longitude</th>\n",
       "      <th>dropoff_latitude</th>\n",
       "      <th>store_and_fwd_flag</th>\n",
       "      <th>trip_duration</th>\n",
       "    </tr>\n",
       "  </thead>\n",
       "  <tbody>\n",
       "    <tr>\n",
       "      <th>729317</th>\n",
       "      <td>id3905982</td>\n",
       "      <td>2</td>\n",
       "      <td>2016-05-21 13:29:38</td>\n",
       "      <td>2016-05-21 13:34:34</td>\n",
       "      <td>2</td>\n",
       "      <td>-73.965919</td>\n",
       "      <td>40.789780</td>\n",
       "      <td>-73.952637</td>\n",
       "      <td>40.789181</td>\n",
       "      <td>N</td>\n",
       "      <td>296</td>\n",
       "    </tr>\n",
       "    <tr>\n",
       "      <th>729318</th>\n",
       "      <td>id0102861</td>\n",
       "      <td>1</td>\n",
       "      <td>2016-02-22 00:43:11</td>\n",
       "      <td>2016-02-22 00:48:26</td>\n",
       "      <td>1</td>\n",
       "      <td>-73.996666</td>\n",
       "      <td>40.737434</td>\n",
       "      <td>-74.001320</td>\n",
       "      <td>40.731911</td>\n",
       "      <td>N</td>\n",
       "      <td>315</td>\n",
       "    </tr>\n",
       "    <tr>\n",
       "      <th>729319</th>\n",
       "      <td>id0439699</td>\n",
       "      <td>1</td>\n",
       "      <td>2016-04-15 18:56:48</td>\n",
       "      <td>2016-04-15 19:08:01</td>\n",
       "      <td>1</td>\n",
       "      <td>-73.997849</td>\n",
       "      <td>40.761696</td>\n",
       "      <td>-74.001488</td>\n",
       "      <td>40.741207</td>\n",
       "      <td>N</td>\n",
       "      <td>673</td>\n",
       "    </tr>\n",
       "    <tr>\n",
       "      <th>729320</th>\n",
       "      <td>id2078912</td>\n",
       "      <td>1</td>\n",
       "      <td>2016-06-19 09:50:47</td>\n",
       "      <td>2016-06-19 09:58:14</td>\n",
       "      <td>1</td>\n",
       "      <td>-74.006706</td>\n",
       "      <td>40.708244</td>\n",
       "      <td>-74.013550</td>\n",
       "      <td>40.713814</td>\n",
       "      <td>N</td>\n",
       "      <td>447</td>\n",
       "    </tr>\n",
       "    <tr>\n",
       "      <th>729321</th>\n",
       "      <td>id1053441</td>\n",
       "      <td>2</td>\n",
       "      <td>2016-01-01 17:24:16</td>\n",
       "      <td>2016-01-01 17:44:40</td>\n",
       "      <td>4</td>\n",
       "      <td>-74.003342</td>\n",
       "      <td>40.743839</td>\n",
       "      <td>-73.945847</td>\n",
       "      <td>40.712841</td>\n",
       "      <td>N</td>\n",
       "      <td>1224</td>\n",
       "    </tr>\n",
       "  </tbody>\n",
       "</table>\n",
       "</div>"
      ],
      "text/plain": [
       "               id  vendor_id      pickup_datetime     dropoff_datetime  \\\n",
       "729317  id3905982          2  2016-05-21 13:29:38  2016-05-21 13:34:34   \n",
       "729318  id0102861          1  2016-02-22 00:43:11  2016-02-22 00:48:26   \n",
       "729319  id0439699          1  2016-04-15 18:56:48  2016-04-15 19:08:01   \n",
       "729320  id2078912          1  2016-06-19 09:50:47  2016-06-19 09:58:14   \n",
       "729321  id1053441          2  2016-01-01 17:24:16  2016-01-01 17:44:40   \n",
       "\n",
       "        passenger_count  pickup_longitude  pickup_latitude  dropoff_longitude  \\\n",
       "729317                2        -73.965919        40.789780         -73.952637   \n",
       "729318                1        -73.996666        40.737434         -74.001320   \n",
       "729319                1        -73.997849        40.761696         -74.001488   \n",
       "729320                1        -74.006706        40.708244         -74.013550   \n",
       "729321                4        -74.003342        40.743839         -73.945847   \n",
       "\n",
       "        dropoff_latitude store_and_fwd_flag  trip_duration  \n",
       "729317         40.789181                  N            296  \n",
       "729318         40.731911                  N            315  \n",
       "729319         40.741207                  N            673  \n",
       "729320         40.713814                  N            447  \n",
       "729321         40.712841                  N           1224  "
      ]
     },
     "execution_count": 4,
     "metadata": {},
     "output_type": "execute_result"
    }
   ],
   "source": [
    "data.tail()"
   ]
  },
  {
   "cell_type": "code",
   "execution_count": 5,
   "id": "9aea5e61",
   "metadata": {},
   "outputs": [
    {
     "data": {
      "text/plain": [
       "(729322, 11)"
      ]
     },
     "execution_count": 5,
     "metadata": {},
     "output_type": "execute_result"
    }
   ],
   "source": [
    "data.shape"
   ]
  },
  {
   "cell_type": "code",
   "execution_count": 6,
   "id": "a5b92f59",
   "metadata": {},
   "outputs": [
    {
     "data": {
      "text/plain": [
       "id                    0\n",
       "vendor_id             0\n",
       "pickup_datetime       0\n",
       "dropoff_datetime      0\n",
       "passenger_count       0\n",
       "pickup_longitude      0\n",
       "pickup_latitude       0\n",
       "dropoff_longitude     0\n",
       "dropoff_latitude      0\n",
       "store_and_fwd_flag    0\n",
       "trip_duration         0\n",
       "dtype: int64"
      ]
     },
     "execution_count": 6,
     "metadata": {},
     "output_type": "execute_result"
    }
   ],
   "source": [
    "data.isnull().sum()"
   ]
  },
  {
   "cell_type": "markdown",
   "id": "a2cf0de6",
   "metadata": {},
   "source": [
    "#### We have no missing values in this dataset."
   ]
  },
  {
   "cell_type": "code",
   "execution_count": 7,
   "id": "6fe9ec90",
   "metadata": {},
   "outputs": [
    {
     "data": {
      "text/plain": [
       "id                     object\n",
       "vendor_id               int64\n",
       "pickup_datetime        object\n",
       "dropoff_datetime       object\n",
       "passenger_count         int64\n",
       "pickup_longitude      float64\n",
       "pickup_latitude       float64\n",
       "dropoff_longitude     float64\n",
       "dropoff_latitude      float64\n",
       "store_and_fwd_flag     object\n",
       "trip_duration           int64\n",
       "dtype: object"
      ]
     },
     "execution_count": 7,
     "metadata": {},
     "output_type": "execute_result"
    }
   ],
   "source": [
    "data.dtypes"
   ]
  },
  {
   "cell_type": "code",
   "execution_count": 8,
   "id": "c14ec14c",
   "metadata": {},
   "outputs": [
    {
     "data": {
      "text/plain": [
       "0"
      ]
     },
     "execution_count": 8,
     "metadata": {},
     "output_type": "execute_result"
    }
   ],
   "source": [
    "# Checking for any duplicate records in the dataset\n",
    "\n",
    "data.duplicated().sum()"
   ]
  },
  {
   "cell_type": "markdown",
   "id": "32fc8007",
   "metadata": {},
   "source": [
    "So, we have 0 duplicate records in the dataset which is good."
   ]
  },
  {
   "cell_type": "code",
   "execution_count": 9,
   "id": "a5751e4f",
   "metadata": {},
   "outputs": [
    {
     "data": {
      "text/plain": [
       "id                    729322\n",
       "vendor_id                  2\n",
       "pickup_datetime       709359\n",
       "dropoff_datetime      709308\n",
       "passenger_count            9\n",
       "pickup_longitude       19729\n",
       "pickup_latitude        39776\n",
       "dropoff_longitude      27892\n",
       "dropoff_latitude       53579\n",
       "store_and_fwd_flag         2\n",
       "trip_duration           6296\n",
       "dtype: int64"
      ]
     },
     "execution_count": 9,
     "metadata": {},
     "output_type": "execute_result"
    }
   ],
   "source": [
    "# Checking unique values in all columns\n",
    "\n",
    "data.nunique()"
   ]
  },
  {
   "cell_type": "markdown",
   "id": "d3b9d23a",
   "metadata": {},
   "source": [
    "Now, as per the dataset we have different types of variables which we will explore further each of them individually. But, we don't require the 'id' variable as it has 729322 unique values which we don't need for our model.\n",
    "\n",
    "'trip_duration' is the target variable and the values are continuous and hence this problem is a Regression Problem."
   ]
  },
  {
   "cell_type": "code",
   "execution_count": 10,
   "id": "e68d1d4e",
   "metadata": {},
   "outputs": [
    {
     "data": {
      "text/plain": [
       "N    725282\n",
       "Y      4040\n",
       "Name: store_and_fwd_flag, dtype: int64"
      ]
     },
     "execution_count": 10,
     "metadata": {},
     "output_type": "execute_result"
    }
   ],
   "source": [
    "data['store_and_fwd_flag'].value_counts()"
   ]
  },
  {
   "cell_type": "markdown",
   "id": "2bd2fdcf",
   "metadata": {},
   "source": [
    "The store_and_fwd_flag variable contains only two values i.e. Y and N.\n",
    "We can convert these values into numeric datatype by using Label Encoder."
   ]
  },
  {
   "cell_type": "code",
   "execution_count": 11,
   "id": "36975220",
   "metadata": {},
   "outputs": [],
   "source": [
    "encoder = LabelEncoder()\n",
    "\n",
    "# Encoding column store_and_fwd_flag\n",
    "data['store_and_fwd_flag_label'] = encoder.fit_transform(data['store_and_fwd_flag'])\n",
    "data['store_and_fwd_flag_label'] = encoder.fit_transform(data['store_and_fwd_flag'])"
   ]
  },
  {
   "cell_type": "code",
   "execution_count": 12,
   "id": "ea1e7f7f",
   "metadata": {},
   "outputs": [],
   "source": [
    "# Converting pickup and dropoff from object to datetime\n",
    "\n",
    "data['pickup_datetime'] = pd.to_datetime(data['pickup_datetime'])\n",
    "data['dropoff_datetime'] = pd.to_datetime(data['dropoff_datetime'])"
   ]
  },
  {
   "cell_type": "code",
   "execution_count": 13,
   "id": "34ad1c5a",
   "metadata": {},
   "outputs": [],
   "source": [
    "# Using datetime to create more new columns - day_number, pickup_hour, day_name\n",
    "\n",
    "data['week_number'] = data.pickup_datetime.dt.weekday\n",
    "data['pickup_hour'] = data.pickup_datetime.dt.hour\n",
    "data['day'] = data.pickup_datetime.dt.day"
   ]
  },
  {
   "cell_type": "code",
   "execution_count": 14,
   "id": "830d02e7",
   "metadata": {},
   "outputs": [
    {
     "data": {
      "text/plain": [
       "Text(0, 0.5, 'Total No. of pickups')"
      ]
     },
     "execution_count": 14,
     "metadata": {},
     "output_type": "execute_result"
    },
    {
     "data": {
      "image/png": "[encoded data removed]",
      "text/plain": [
       "<Figure size 1584x432 with 1 Axes>"
      ]
     },
     "metadata": {
      "needs_background": "light"
     },
     "output_type": "display_data"
    }
   ],
   "source": [
    "# Plotting the pickup day wrt total no. of pickups\n",
    "\n",
    "plt.figure(figsize = (22,6))\n",
    "plt.subplot(131)\n",
    "sns.countplot(data['day'])\n",
    "plt.xlabel('Day')\n",
    "plt.ylabel('Total No. of pickups')"
   ]
  },
  {
   "cell_type": "code",
   "execution_count": 15,
   "id": "d0eff799",
   "metadata": {},
   "outputs": [
    {
     "data": {
      "text/plain": [
       "Text(0, 0.5, 'Total no. of pickups')"
      ]
     },
     "execution_count": 15,
     "metadata": {},
     "output_type": "execute_result"
    },
    {
     "data": {
      "image/png": "[encoded data removed]",
      "text/plain": [
       "<Figure size 1584x432 with 1 Axes>"
      ]
     },
     "metadata": {
      "needs_background": "light"
     },
     "output_type": "display_data"
    }
   ],
   "source": [
    "# Plotting the hour wrt the total no. of pickups\n",
    "\n",
    "plt.figure(figsize = (22,6))\n",
    "plt.subplot(132)\n",
    "sns.countplot(data['pickup_hour'])\n",
    "plt.xlabel('Hour')\n",
    "plt.ylabel('Total no. of pickups')"
   ]
  },
  {
   "cell_type": "code",
   "execution_count": 16,
   "id": "3b6bc84f",
   "metadata": {},
   "outputs": [
    {
     "data": {
      "text/plain": [
       "Text(0, 0.5, 'Total no. of pickups')"
      ]
     },
     "execution_count": 16,
     "metadata": {},
     "output_type": "execute_result"
    },
    {
     "data": {
      "image/png": "[encoded data removed]",
      "text/plain": [
       "<Figure size 1584x432 with 1 Axes>"
      ]
     },
     "metadata": {
      "needs_background": "light"
     },
     "output_type": "display_data"
    }
   ],
   "source": [
    "# plotting the week day wrt the total no. of pickups\n",
    "\n",
    "plt.figure(figsize = (22,6))\n",
    "plt.subplot(133)\n",
    "sns.countplot(data['week_number'])\n",
    "plt.xlabel('Week day')\n",
    "plt.ylabel('Total no. of pickups')"
   ]
  },
  {
   "cell_type": "markdown",
   "id": "d136f4f8",
   "metadata": {},
   "source": [
    "### Insights:-\n",
    "\n",
    "    1. On Thursday(4), trip is on peak.\n",
    "    \n",
    "    2. Trip is on peak between hour 17-22 i.e. in evenings of the day.\n",
    "    \n",
    "    3. The no. of trip is high in the first three weeks."
   ]
  },
  {
   "cell_type": "code",
   "execution_count": 17,
   "id": "1cca6102",
   "metadata": {},
   "outputs": [],
   "source": [
    "data['drop_day'] = data.dropoff_datetime.dt.day\n",
    "data['drop_hour'] = data.dropoff_datetime.dt.hour\n",
    "data['drop_week'] = data.dropoff_datetime.dt.weekday"
   ]
  },
  {
   "cell_type": "code",
   "execution_count": 18,
   "id": "f4181609",
   "metadata": {},
   "outputs": [
    {
     "data": {
      "text/html": [
       "<div>\n",
       "<style scoped>\n",
       "    .dataframe tbody tr th:only-of-type {\n",
       "        vertical-align: middle;\n",
       "    }\n",
       "\n",
       "    .dataframe tbody tr th {\n",
       "        vertical-align: top;\n",
       "    }\n",
       "\n",
       "    .dataframe thead th {\n",
       "        text-align: right;\n",
       "    }\n",
       "</style>\n",
       "<table border=\"1\" class=\"dataframe\">\n",
       "  <thead>\n",
       "    <tr style=\"text-align: right;\">\n",
       "      <th></th>\n",
       "      <th>id</th>\n",
       "      <th>vendor_id</th>\n",
       "      <th>pickup_datetime</th>\n",
       "      <th>dropoff_datetime</th>\n",
       "      <th>passenger_count</th>\n",
       "      <th>pickup_longitude</th>\n",
       "      <th>pickup_latitude</th>\n",
       "      <th>dropoff_longitude</th>\n",
       "      <th>dropoff_latitude</th>\n",
       "      <th>store_and_fwd_flag</th>\n",
       "      <th>trip_duration</th>\n",
       "      <th>store_and_fwd_flag_label</th>\n",
       "      <th>week_number</th>\n",
       "      <th>pickup_hour</th>\n",
       "      <th>day</th>\n",
       "      <th>drop_day</th>\n",
       "      <th>drop_hour</th>\n",
       "      <th>drop_week</th>\n",
       "    </tr>\n",
       "  </thead>\n",
       "  <tbody>\n",
       "    <tr>\n",
       "      <th>0</th>\n",
       "      <td>id1080784</td>\n",
       "      <td>2</td>\n",
       "      <td>2016-02-29 16:40:21</td>\n",
       "      <td>2016-02-29 16:47:01</td>\n",
       "      <td>1</td>\n",
       "      <td>-73.953918</td>\n",
       "      <td>40.778873</td>\n",
       "      <td>-73.963875</td>\n",
       "      <td>40.771164</td>\n",
       "      <td>N</td>\n",
       "      <td>400</td>\n",
       "      <td>0</td>\n",
       "      <td>0</td>\n",
       "      <td>16</td>\n",
       "      <td>29</td>\n",
       "      <td>29</td>\n",
       "      <td>16</td>\n",
       "      <td>0</td>\n",
       "    </tr>\n",
       "    <tr>\n",
       "      <th>1</th>\n",
       "      <td>id0889885</td>\n",
       "      <td>1</td>\n",
       "      <td>2016-03-11 23:35:37</td>\n",
       "      <td>2016-03-11 23:53:57</td>\n",
       "      <td>2</td>\n",
       "      <td>-73.988312</td>\n",
       "      <td>40.731743</td>\n",
       "      <td>-73.994751</td>\n",
       "      <td>40.694931</td>\n",
       "      <td>N</td>\n",
       "      <td>1100</td>\n",
       "      <td>0</td>\n",
       "      <td>4</td>\n",
       "      <td>23</td>\n",
       "      <td>11</td>\n",
       "      <td>11</td>\n",
       "      <td>23</td>\n",
       "      <td>4</td>\n",
       "    </tr>\n",
       "    <tr>\n",
       "      <th>2</th>\n",
       "      <td>id0857912</td>\n",
       "      <td>2</td>\n",
       "      <td>2016-02-21 17:59:33</td>\n",
       "      <td>2016-02-21 18:26:48</td>\n",
       "      <td>2</td>\n",
       "      <td>-73.997314</td>\n",
       "      <td>40.721458</td>\n",
       "      <td>-73.948029</td>\n",
       "      <td>40.774918</td>\n",
       "      <td>N</td>\n",
       "      <td>1635</td>\n",
       "      <td>0</td>\n",
       "      <td>6</td>\n",
       "      <td>17</td>\n",
       "      <td>21</td>\n",
       "      <td>21</td>\n",
       "      <td>18</td>\n",
       "      <td>6</td>\n",
       "    </tr>\n",
       "    <tr>\n",
       "      <th>3</th>\n",
       "      <td>id3744273</td>\n",
       "      <td>2</td>\n",
       "      <td>2016-01-05 09:44:31</td>\n",
       "      <td>2016-01-05 10:03:32</td>\n",
       "      <td>6</td>\n",
       "      <td>-73.961670</td>\n",
       "      <td>40.759720</td>\n",
       "      <td>-73.956779</td>\n",
       "      <td>40.780628</td>\n",
       "      <td>N</td>\n",
       "      <td>1141</td>\n",
       "      <td>0</td>\n",
       "      <td>1</td>\n",
       "      <td>9</td>\n",
       "      <td>5</td>\n",
       "      <td>5</td>\n",
       "      <td>10</td>\n",
       "      <td>1</td>\n",
       "    </tr>\n",
       "    <tr>\n",
       "      <th>4</th>\n",
       "      <td>id0232939</td>\n",
       "      <td>1</td>\n",
       "      <td>2016-02-17 06:42:23</td>\n",
       "      <td>2016-02-17 06:56:31</td>\n",
       "      <td>1</td>\n",
       "      <td>-74.017120</td>\n",
       "      <td>40.708469</td>\n",
       "      <td>-73.988182</td>\n",
       "      <td>40.740631</td>\n",
       "      <td>N</td>\n",
       "      <td>848</td>\n",
       "      <td>0</td>\n",
       "      <td>2</td>\n",
       "      <td>6</td>\n",
       "      <td>17</td>\n",
       "      <td>17</td>\n",
       "      <td>6</td>\n",
       "      <td>2</td>\n",
       "    </tr>\n",
       "  </tbody>\n",
       "</table>\n",
       "</div>"
      ],
      "text/plain": [
       "          id  vendor_id     pickup_datetime    dropoff_datetime  \\\n",
       "0  id1080784          2 2016-02-29 16:40:21 2016-02-29 16:47:01   \n",
       "1  id0889885          1 2016-03-11 23:35:37 2016-03-11 23:53:57   \n",
       "2  id0857912          2 2016-02-21 17:59:33 2016-02-21 18:26:48   \n",
       "3  id3744273          2 2016-01-05 09:44:31 2016-01-05 10:03:32   \n",
       "4  id0232939          1 2016-02-17 06:42:23 2016-02-17 06:56:31   \n",
       "\n",
       "   passenger_count  pickup_longitude  pickup_latitude  dropoff_longitude  \\\n",
       "0                1        -73.953918        40.778873         -73.963875   \n",
       "1                2        -73.988312        40.731743         -73.994751   \n",
       "2                2        -73.997314        40.721458         -73.948029   \n",
       "3                6        -73.961670        40.759720         -73.956779   \n",
       "4                1        -74.017120        40.708469         -73.988182   \n",
       "\n",
       "   dropoff_latitude store_and_fwd_flag  trip_duration  \\\n",
       "0         40.771164                  N            400   \n",
       "1         40.694931                  N           1100   \n",
       "2         40.774918                  N           1635   \n",
       "3         40.780628                  N           1141   \n",
       "4         40.740631                  N            848   \n",
       "\n",
       "   store_and_fwd_flag_label  week_number  pickup_hour  day  drop_day  \\\n",
       "0                         0            0           16   29        29   \n",
       "1                         0            4           23   11        11   \n",
       "2                         0            6           17   21        21   \n",
       "3                         0            1            9    5         5   \n",
       "4                         0            2            6   17        17   \n",
       "\n",
       "   drop_hour  drop_week  \n",
       "0         16          0  \n",
       "1         23          4  \n",
       "2         18          6  \n",
       "3         10          1  \n",
       "4          6          2  "
      ]
     },
     "execution_count": 18,
     "metadata": {},
     "output_type": "execute_result"
    }
   ],
   "source": [
    "data.head()"
   ]
  },
  {
   "cell_type": "code",
   "execution_count": 19,
   "id": "ad79765e",
   "metadata": {},
   "outputs": [],
   "source": [
    "# Getting distance calculated with the help of geopy\n",
    "\n",
    "def calc_dist(data):\n",
    "    pickup = (data['pickup_latitude'], data['pickup_longitude'])\n",
    "    dropoff = (data['dropoff_latitude'], data['dropoff_longitude'])\n",
    "    return geopy.distance.distance(pickup, dropoff).km"
   ]
  },
  {
   "cell_type": "code",
   "execution_count": 20,
   "id": "0781c1e6",
   "metadata": {},
   "outputs": [],
   "source": [
    "# Adding a new distance column\n",
    "\n",
    "data['distance'] = data.apply(lambda x: calc_dist(x), axis=1)"
   ]
  },
  {
   "cell_type": "code",
   "execution_count": 21,
   "id": "7f14392c",
   "metadata": {},
   "outputs": [
    {
     "data": {
      "text/html": [
       "<div>\n",
       "<style scoped>\n",
       "    .dataframe tbody tr th:only-of-type {\n",
       "        vertical-align: middle;\n",
       "    }\n",
       "\n",
       "    .dataframe tbody tr th {\n",
       "        vertical-align: top;\n",
       "    }\n",
       "\n",
       "    .dataframe thead th {\n",
       "        text-align: right;\n",
       "    }\n",
       "</style>\n",
       "<table border=\"1\" class=\"dataframe\">\n",
       "  <thead>\n",
       "    <tr style=\"text-align: right;\">\n",
       "      <th></th>\n",
       "      <th>id</th>\n",
       "      <th>vendor_id</th>\n",
       "      <th>pickup_datetime</th>\n",
       "      <th>dropoff_datetime</th>\n",
       "      <th>passenger_count</th>\n",
       "      <th>pickup_longitude</th>\n",
       "      <th>pickup_latitude</th>\n",
       "      <th>dropoff_longitude</th>\n",
       "      <th>dropoff_latitude</th>\n",
       "      <th>store_and_fwd_flag</th>\n",
       "      <th>trip_duration</th>\n",
       "      <th>store_and_fwd_flag_label</th>\n",
       "      <th>week_number</th>\n",
       "      <th>pickup_hour</th>\n",
       "      <th>day</th>\n",
       "      <th>drop_day</th>\n",
       "      <th>drop_hour</th>\n",
       "      <th>drop_week</th>\n",
       "      <th>distance</th>\n",
       "    </tr>\n",
       "  </thead>\n",
       "  <tbody>\n",
       "    <tr>\n",
       "      <th>0</th>\n",
       "      <td>id1080784</td>\n",
       "      <td>2</td>\n",
       "      <td>2016-02-29 16:40:21</td>\n",
       "      <td>2016-02-29 16:47:01</td>\n",
       "      <td>1</td>\n",
       "      <td>-73.953918</td>\n",
       "      <td>40.778873</td>\n",
       "      <td>-73.963875</td>\n",
       "      <td>40.771164</td>\n",
       "      <td>N</td>\n",
       "      <td>400</td>\n",
       "      <td>0</td>\n",
       "      <td>0</td>\n",
       "      <td>16</td>\n",
       "      <td>29</td>\n",
       "      <td>29</td>\n",
       "      <td>16</td>\n",
       "      <td>0</td>\n",
       "      <td>1.199770</td>\n",
       "    </tr>\n",
       "    <tr>\n",
       "      <th>1</th>\n",
       "      <td>id0889885</td>\n",
       "      <td>1</td>\n",
       "      <td>2016-03-11 23:35:37</td>\n",
       "      <td>2016-03-11 23:53:57</td>\n",
       "      <td>2</td>\n",
       "      <td>-73.988312</td>\n",
       "      <td>40.731743</td>\n",
       "      <td>-73.994751</td>\n",
       "      <td>40.694931</td>\n",
       "      <td>N</td>\n",
       "      <td>1100</td>\n",
       "      <td>0</td>\n",
       "      <td>4</td>\n",
       "      <td>23</td>\n",
       "      <td>11</td>\n",
       "      <td>11</td>\n",
       "      <td>23</td>\n",
       "      <td>4</td>\n",
       "      <td>4.123945</td>\n",
       "    </tr>\n",
       "    <tr>\n",
       "      <th>2</th>\n",
       "      <td>id0857912</td>\n",
       "      <td>2</td>\n",
       "      <td>2016-02-21 17:59:33</td>\n",
       "      <td>2016-02-21 18:26:48</td>\n",
       "      <td>2</td>\n",
       "      <td>-73.997314</td>\n",
       "      <td>40.721458</td>\n",
       "      <td>-73.948029</td>\n",
       "      <td>40.774918</td>\n",
       "      <td>N</td>\n",
       "      <td>1635</td>\n",
       "      <td>0</td>\n",
       "      <td>6</td>\n",
       "      <td>17</td>\n",
       "      <td>21</td>\n",
       "      <td>21</td>\n",
       "      <td>18</td>\n",
       "      <td>6</td>\n",
       "      <td>7.250436</td>\n",
       "    </tr>\n",
       "    <tr>\n",
       "      <th>3</th>\n",
       "      <td>id3744273</td>\n",
       "      <td>2</td>\n",
       "      <td>2016-01-05 09:44:31</td>\n",
       "      <td>2016-01-05 10:03:32</td>\n",
       "      <td>6</td>\n",
       "      <td>-73.961670</td>\n",
       "      <td>40.759720</td>\n",
       "      <td>-73.956779</td>\n",
       "      <td>40.780628</td>\n",
       "      <td>N</td>\n",
       "      <td>1141</td>\n",
       "      <td>0</td>\n",
       "      <td>1</td>\n",
       "      <td>9</td>\n",
       "      <td>5</td>\n",
       "      <td>5</td>\n",
       "      <td>10</td>\n",
       "      <td>1</td>\n",
       "      <td>2.358287</td>\n",
       "    </tr>\n",
       "    <tr>\n",
       "      <th>4</th>\n",
       "      <td>id0232939</td>\n",
       "      <td>1</td>\n",
       "      <td>2016-02-17 06:42:23</td>\n",
       "      <td>2016-02-17 06:56:31</td>\n",
       "      <td>1</td>\n",
       "      <td>-74.017120</td>\n",
       "      <td>40.708469</td>\n",
       "      <td>-73.988182</td>\n",
       "      <td>40.740631</td>\n",
       "      <td>N</td>\n",
       "      <td>848</td>\n",
       "      <td>0</td>\n",
       "      <td>2</td>\n",
       "      <td>6</td>\n",
       "      <td>17</td>\n",
       "      <td>17</td>\n",
       "      <td>6</td>\n",
       "      <td>2</td>\n",
       "      <td>4.328155</td>\n",
       "    </tr>\n",
       "  </tbody>\n",
       "</table>\n",
       "</div>"
      ],
      "text/plain": [
       "          id  vendor_id     pickup_datetime    dropoff_datetime  \\\n",
       "0  id1080784          2 2016-02-29 16:40:21 2016-02-29 16:47:01   \n",
       "1  id0889885          1 2016-03-11 23:35:37 2016-03-11 23:53:57   \n",
       "2  id0857912          2 2016-02-21 17:59:33 2016-02-21 18:26:48   \n",
       "3  id3744273          2 2016-01-05 09:44:31 2016-01-05 10:03:32   \n",
       "4  id0232939          1 2016-02-17 06:42:23 2016-02-17 06:56:31   \n",
       "\n",
       "   passenger_count  pickup_longitude  pickup_latitude  dropoff_longitude  \\\n",
       "0                1        -73.953918        40.778873         -73.963875   \n",
       "1                2        -73.988312        40.731743         -73.994751   \n",
       "2                2        -73.997314        40.721458         -73.948029   \n",
       "3                6        -73.961670        40.759720         -73.956779   \n",
       "4                1        -74.017120        40.708469         -73.988182   \n",
       "\n",
       "   dropoff_latitude store_and_fwd_flag  trip_duration  \\\n",
       "0         40.771164                  N            400   \n",
       "1         40.694931                  N           1100   \n",
       "2         40.774918                  N           1635   \n",
       "3         40.780628                  N           1141   \n",
       "4         40.740631                  N            848   \n",
       "\n",
       "   store_and_fwd_flag_label  week_number  pickup_hour  day  drop_day  \\\n",
       "0                         0            0           16   29        29   \n",
       "1                         0            4           23   11        11   \n",
       "2                         0            6           17   21        21   \n",
       "3                         0            1            9    5         5   \n",
       "4                         0            2            6   17        17   \n",
       "\n",
       "   drop_hour  drop_week  distance  \n",
       "0         16          0  1.199770  \n",
       "1         23          4  4.123945  \n",
       "2         18          6  7.250436  \n",
       "3         10          1  2.358287  \n",
       "4          6          2  4.328155  "
      ]
     },
     "execution_count": 21,
     "metadata": {},
     "output_type": "execute_result"
    }
   ],
   "source": [
    "data.head()"
   ]
  },
  {
   "cell_type": "code",
   "execution_count": 22,
   "id": "74f25e5c",
   "metadata": {},
   "outputs": [
    {
     "data": {
      "text/plain": [
       "0.000000    2901\n",
       "0.650138       2\n",
       "0.000424       2\n",
       "2.000050       1\n",
       "0.857289       1\n",
       "            ... \n",
       "4.937193       1\n",
       "2.132841       1\n",
       "2.462624       1\n",
       "0.904627       1\n",
       "7.361812       1\n",
       "Name: distance, Length: 726420, dtype: int64"
      ]
     },
     "execution_count": 22,
     "metadata": {},
     "output_type": "execute_result"
    }
   ],
   "source": [
    "data['distance'].value_counts()"
   ]
  },
  {
   "cell_type": "markdown",
   "id": "7dcdd337",
   "metadata": {},
   "source": [
    "As per the dataset, there are 2901 records with distance travelled as 0."
   ]
  },
  {
   "cell_type": "code",
   "execution_count": 23,
   "id": "cf4afd05",
   "metadata": {},
   "outputs": [
    {
     "data": {
      "text/plain": [
       "1    517415\n",
       "2    105097\n",
       "5     38926\n",
       "3     29692\n",
       "6     24107\n",
       "4     14050\n",
       "0        33\n",
       "7         1\n",
       "9         1\n",
       "Name: passenger_count, dtype: int64"
      ]
     },
     "execution_count": 23,
     "metadata": {},
     "output_type": "execute_result"
    }
   ],
   "source": [
    "data['passenger_count'].value_counts()"
   ]
  },
  {
   "cell_type": "markdown",
   "id": "eb45080d",
   "metadata": {},
   "source": [
    "We have extremely low values for the passenger count above 6 and 0. We will remove these records."
   ]
  },
  {
   "cell_type": "code",
   "execution_count": 24,
   "id": "227b42e7",
   "metadata": {},
   "outputs": [],
   "source": [
    "# Considering only upto 6 passengers count\n",
    "\n",
    "data = data[data['passenger_count'] <= 6]\n",
    "data = data[data['passenger_count'] > 0]"
   ]
  },
  {
   "cell_type": "code",
   "execution_count": 25,
   "id": "d8928df4",
   "metadata": {},
   "outputs": [
    {
     "data": {
      "text/plain": [
       "1    517415\n",
       "2    105097\n",
       "5     38926\n",
       "3     29692\n",
       "6     24107\n",
       "4     14050\n",
       "Name: passenger_count, dtype: int64"
      ]
     },
     "execution_count": 25,
     "metadata": {},
     "output_type": "execute_result"
    }
   ],
   "source": [
    "# Again checking the passenger count\n",
    "\n",
    "data['passenger_count'].value_counts()"
   ]
  },
  {
   "cell_type": "code",
   "execution_count": 26,
   "id": "beb6fbe4",
   "metadata": {},
   "outputs": [
    {
     "data": {
      "text/plain": [
       "count    202.579722\n",
       "mean       0.264515\n",
       "std        1.073531\n",
       "min        0.000278\n",
       "25%        0.110278\n",
       "50%        0.184167\n",
       "75%        0.298611\n",
       "max      538.815556\n",
       "Name: trip_duration, dtype: float64"
      ]
     },
     "execution_count": 26,
     "metadata": {},
     "output_type": "execute_result"
    }
   ],
   "source": [
    "# Exploring the target variable - trip_duration\n",
    "data['trip_duration'].describe()/3600"
   ]
  },
  {
   "cell_type": "markdown",
   "id": "8050a736",
   "metadata": {},
   "source": [
    "The max value in trip duration is 538 which is an outlier. We have to perform log transform to make more accurate predictions."
   ]
  },
  {
   "cell_type": "code",
   "execution_count": 27,
   "id": "edec585c",
   "metadata": {},
   "outputs": [],
   "source": [
    "#trip duration in hours\n",
    "data['trip_duration_hour'] = data['trip_duration'].apply(lambda x: x/3600)"
   ]
  },
  {
   "cell_type": "code",
   "execution_count": 28,
   "id": "e7acd6d0",
   "metadata": {},
   "outputs": [],
   "source": [
    "#Removing outliers from the dataset such that the value does not exceeds a day or 24 hours.\n",
    "\n",
    "data = data[data['trip_duration_hour'] <= 24]"
   ]
  },
  {
   "cell_type": "code",
   "execution_count": 29,
   "id": "396d51ff",
   "metadata": {},
   "outputs": [
    {
     "data": {
      "text/plain": [
       "0.0002777777777777778"
      ]
     },
     "execution_count": 29,
     "metadata": {},
     "output_type": "execute_result"
    }
   ],
   "source": [
    "data['trip_duration_hour'].min()"
   ]
  },
  {
   "cell_type": "code",
   "execution_count": 30,
   "id": "7752560c",
   "metadata": {},
   "outputs": [
    {
     "data": {
      "text/plain": [
       "23.9975"
      ]
     },
     "execution_count": 30,
     "metadata": {},
     "output_type": "execute_result"
    }
   ],
   "source": [
    "data['trip_duration_hour'].max()"
   ]
  },
  {
   "cell_type": "code",
   "execution_count": 31,
   "id": "346d0443",
   "metadata": {},
   "outputs": [
    {
     "data": {
      "text/plain": [
       "<seaborn.axisgrid.FacetGrid at 0x2376d653be0>"
      ]
     },
     "execution_count": 31,
     "metadata": {},
     "output_type": "execute_result"
    },
    {
     "data": {
      "image/png": "[encoded data removed]",
      "text/plain": [
       "<Figure size 360x360 with 1 Axes>"
      ]
     },
     "metadata": {
      "needs_background": "light"
     },
     "output_type": "display_data"
    }
   ],
   "source": [
    "sns.relplot(y = data['distance'], x = data['trip_duration_hour'])"
   ]
  },
  {
   "cell_type": "code",
   "execution_count": 32,
   "id": "29340c8f",
   "metadata": {},
   "outputs": [
    {
     "data": {
      "image/png": "[encoded data removed]",
      "text/plain": [
       "<Figure size 432x288 with 1 Axes>"
      ]
     },
     "metadata": {
      "needs_background": "light"
     },
     "output_type": "display_data"
    }
   ],
   "source": [
    "sns.distplot(data['trip_duration'])\n",
    "plt.show()"
   ]
  },
  {
   "cell_type": "code",
   "execution_count": 33,
   "id": "af5aa16d",
   "metadata": {},
   "outputs": [
    {
     "data": {
      "image/png": "[encoded data removed]",
      "text/plain": [
       "<Figure size 432x288 with 1 Axes>"
      ]
     },
     "metadata": {
      "needs_background": "light"
     },
     "output_type": "display_data"
    }
   ],
   "source": [
    "# Performing log transform on trip duration in seconds\n",
    "\n",
    "data['trip_duration_log'] = np.log(data['trip_duration'].values + 1)\n",
    "sns.distplot(data['trip_duration_log'], kde = False)\n",
    "plt.show()"
   ]
  },
  {
   "cell_type": "markdown",
   "id": "0e77de6d",
   "metadata": {},
   "source": [
    "We are done with the Feature Exploration part, we can remove the unwanted columns from the dataset and even the outliers present."
   ]
  },
  {
   "cell_type": "code",
   "execution_count": 34,
   "id": "04b793a0",
   "metadata": {},
   "outputs": [],
   "source": [
    "df = data.drop(columns = ['id', 'pickup_datetime', 'dropoff_datetime', 'pickup_latitude', 'pickup_longitude', \n",
    "                         'dropoff_latitude', 'dropoff_longitude', 'store_and_fwd_flag', 'trip_duration', 'trip_duration_hour'])"
   ]
  },
  {
   "cell_type": "code",
   "execution_count": 35,
   "id": "b2256796",
   "metadata": {},
   "outputs": [],
   "source": [
    "x = df.drop('trip_duration_log', axis=1)\n",
    "y = df['trip_duration_log']"
   ]
  },
  {
   "cell_type": "code",
   "execution_count": 36,
   "id": "98a5305f",
   "metadata": {},
   "outputs": [],
   "source": [
    "# Scaling the data\n",
    "\n",
    "scaler = MinMaxScaler()\n",
    "x_scale = scaler.fit_transform(x)\n",
    "\n",
    "x = pd.DataFrame(x_scale, columns = x.columns)"
   ]
  },
  {
   "cell_type": "markdown",
   "id": "a684735c",
   "metadata": {},
   "source": [
    "As we have to predict discrete value and our target variable- trip_duration is continuous, we can say that this is a Regression Problem.\n",
    "\n",
    "#### Evaluation Metric selected :- R-squared "
   ]
  },
  {
   "cell_type": "markdown",
   "id": "483506e4",
   "metadata": {},
   "source": [
    "## Building K Nearest Neighbor Model and finding the best value of k"
   ]
  },
  {
   "cell_type": "code",
   "execution_count": 37,
   "id": "03d02247",
   "metadata": {},
   "outputs": [],
   "source": [
    "train_x1, test_x1, train_y1, test_y1 = train_test_split(x, y, test_size = 0.25, random_state = 42)"
   ]
  },
  {
   "cell_type": "code",
   "execution_count": 38,
   "id": "857bd56e",
   "metadata": {},
   "outputs": [],
   "source": [
    "# Elbow curve to determine the best value of k\n",
    "def elbow(k):\n",
    "    test = []\n",
    "    \n",
    "    for i in k:\n",
    "        regr = KNeighborsRegressor(n_jobs = -1, n_neighbors = i)\n",
    "        regr.fit(train_x1, train_y1)\n",
    "        \n",
    "        temp_pred = regr.predict(test_x1)\n",
    "        temp_error = sqrt(mean_squared_error(temp_pred, test_y1)) # Using RMSE for getting elbow curve\n",
    "        test.append(temp_error)\n",
    "        \n",
    "    return test"
   ]
  },
  {
   "cell_type": "code",
   "execution_count": 39,
   "id": "ee6a0104",
   "metadata": {},
   "outputs": [],
   "source": [
    "k = range(2, 6)"
   ]
  },
  {
   "cell_type": "code",
   "execution_count": 40,
   "id": "a3e2e254",
   "metadata": {},
   "outputs": [],
   "source": [
    "test1 = elbow(k)"
   ]
  },
  {
   "cell_type": "code",
   "execution_count": 41,
   "id": "d91bab0c",
   "metadata": {},
   "outputs": [
    {
     "data": {
      "text/plain": [
       "Text(0.5, 1.0, 'Elbow curve for test')"
      ]
     },
     "execution_count": 41,
     "metadata": {},
     "output_type": "execute_result"
    },
    {
     "data": {
      "image/png": "[encoded data removed]",
      "text/plain": [
       "<Figure size 432x288 with 1 Axes>"
      ]
     },
     "metadata": {
      "needs_background": "light"
     },
     "output_type": "display_data"
    }
   ],
   "source": [
    "# Plotting curve\n",
    "\n",
    "plt.plot(k, test1)\n",
    "plt.xlabel('K_Neighbors')\n",
    "plt.ylabel('RMSE')\n",
    "plt.title('Elbow curve for test')"
   ]
  },
  {
   "cell_type": "markdown",
   "id": "eec34053",
   "metadata": {},
   "source": [
    "As we can look at the elbow curve plot, the lowest error occurs at k=4"
   ]
  },
  {
   "cell_type": "code",
   "execution_count": 42,
   "id": "6d560d06",
   "metadata": {},
   "outputs": [
    {
     "data": {
      "text/plain": [
       "KNeighborsRegressor(n_jobs=-1, n_neighbors=4)"
      ]
     },
     "execution_count": 42,
     "metadata": {},
     "output_type": "execute_result"
    }
   ],
   "source": [
    "knn = KNeighborsRegressor(n_jobs = -1, n_neighbors = 4)\n",
    "knn.fit(train_x1, train_y1)"
   ]
  },
  {
   "cell_type": "code",
   "execution_count": 43,
   "id": "56fcb00d",
   "metadata": {},
   "outputs": [
    {
     "data": {
      "text/plain": [
       "0.5001540786344896"
      ]
     },
     "execution_count": 43,
     "metadata": {},
     "output_type": "execute_result"
    }
   ],
   "source": [
    "# Prediction on test\n",
    "knn_pred = knn.predict(test_x1)\n",
    "\n",
    "# Checking R square score\n",
    "rscore = r2_score(test_y1, knn_pred)\n",
    "rscore"
   ]
  },
  {
   "cell_type": "markdown",
   "id": "8394dcd3",
   "metadata": {},
   "source": [
    "We got R-square score of KNN Model as - 0.50015"
   ]
  },
  {
   "cell_type": "markdown",
   "id": "5732bfba",
   "metadata": {},
   "source": [
    "### Building Linear Regression Model with Regularisation."
   ]
  },
  {
   "cell_type": "code",
   "execution_count": 44,
   "id": "b3c1592d",
   "metadata": {},
   "outputs": [
    {
     "data": {
      "text/plain": [
       "LinearRegression()"
      ]
     },
     "execution_count": 44,
     "metadata": {},
     "output_type": "execute_result"
    }
   ],
   "source": [
    "# Linear Model\n",
    "linear = LinearRegression()\n",
    "linear.fit(train_x1, train_y1)"
   ]
  },
  {
   "cell_type": "code",
   "execution_count": 45,
   "id": "939b138f",
   "metadata": {},
   "outputs": [
    {
     "data": {
      "text/plain": [
       "0.36503803944085345"
      ]
     },
     "execution_count": 45,
     "metadata": {},
     "output_type": "execute_result"
    }
   ],
   "source": [
    "pred = linear.predict(test_x1)\n",
    "\n",
    "# Checking score\n",
    "lscore = r2_score(test_y1, pred)\n",
    "lscore"
   ]
  },
  {
   "cell_type": "markdown",
   "id": "cbc97aef",
   "metadata": {},
   "source": [
    "With Linear Regression, we got r-square score as - 0.36503"
   ]
  },
  {
   "cell_type": "markdown",
   "id": "37e11f28",
   "metadata": {},
   "source": [
    "#### Ridge Regression is a regularised linear regression model, So we use Ridge in this model. "
   ]
  },
  {
   "cell_type": "code",
   "execution_count": 46,
   "id": "8fd65054",
   "metadata": {},
   "outputs": [
    {
     "data": {
      "text/plain": [
       "Ridge()"
      ]
     },
     "execution_count": 46,
     "metadata": {},
     "output_type": "execute_result"
    }
   ],
   "source": [
    "# Creating Ridge regression model\n",
    "ridge_regr = Ridge(alpha = 1.0)\n",
    "ridge_regr.fit(train_x1, train_y1)"
   ]
  },
  {
   "cell_type": "code",
   "execution_count": 47,
   "id": "10e1f440",
   "metadata": {},
   "outputs": [
    {
     "data": {
      "text/plain": [
       "0.34729058595313944"
      ]
     },
     "execution_count": 47,
     "metadata": {},
     "output_type": "execute_result"
    }
   ],
   "source": [
    "# Getting Test score\n",
    "ridge_pred = ridge_regr.predict(test_x1)\n",
    "\n",
    "re_score = r2_score(test_y1, ridge_pred)\n",
    "re_score"
   ]
  },
  {
   "cell_type": "markdown",
   "id": "33090758",
   "metadata": {},
   "source": [
    "### Building Random Forest model for the dataset."
   ]
  },
  {
   "cell_type": "code",
   "execution_count": 48,
   "id": "42382a1e",
   "metadata": {},
   "outputs": [
    {
     "data": {
      "text/plain": [
       "RandomForestRegressor(random_state=42)"
      ]
     },
     "execution_count": 48,
     "metadata": {},
     "output_type": "execute_result"
    }
   ],
   "source": [
    "random_for = RandomForestRegressor(random_state = 42)\n",
    "random_for.fit(train_x1, train_y1)"
   ]
  },
  {
   "cell_type": "code",
   "execution_count": 49,
   "id": "b1eb27d9",
   "metadata": {},
   "outputs": [
    {
     "data": {
      "text/plain": [
       "0.6685600779144829"
      ]
     },
     "execution_count": 49,
     "metadata": {},
     "output_type": "execute_result"
    }
   ],
   "source": [
    "# Getting prediction and score\n",
    "\n",
    "random_pred = random_for.predict(test_x1)\n",
    "\n",
    "random_score = r2_score(test_y1, random_pred)\n",
    "random_score"
   ]
  },
  {
   "cell_type": "markdown",
   "id": "c1c5e3c1",
   "metadata": {},
   "source": [
    "### Building Gradient Boosting Model for the dataset."
   ]
  },
  {
   "cell_type": "code",
   "execution_count": 50,
   "id": "46921437",
   "metadata": {},
   "outputs": [
    {
     "data": {
      "text/plain": [
       "XGBRegressor(base_score=0.5, booster='gbtree', callbacks=None,\n",
       "             colsample_bylevel=1, colsample_bynode=1, colsample_bytree=1,\n",
       "             early_stopping_rounds=None, enable_categorical=False,\n",
       "             eval_metric=None, gamma=0, gpu_id=-1, grow_policy='depthwise',\n",
       "             importance_type=None, interaction_constraints='',\n",
       "             learning_rate=0.300000012, max_bin=256, max_cat_to_onehot=4,\n",
       "             max_delta_step=0, max_depth=6, max_leaves=0, min_child_weight=1,\n",
       "             missing=nan, monotone_constraints='()', n_estimators=100, n_jobs=0,\n",
       "             num_parallel_tree=1, predictor='auto', random_state=42,\n",
       "             reg_alpha=0, reg_lambda=1, ...)"
      ]
     },
     "execution_count": 50,
     "metadata": {},
     "output_type": "execute_result"
    }
   ],
   "source": [
    "xg_boost = XGBRegressor(random_state = 42, objective = 'reg:squarederror')\n",
    "xg_boost.fit(train_x1, train_y1)"
   ]
  },
  {
   "cell_type": "code",
   "execution_count": 51,
   "id": "d8b7e949",
   "metadata": {},
   "outputs": [
    {
     "data": {
      "text/plain": [
       "0.7270941243460809"
      ]
     },
     "execution_count": 51,
     "metadata": {},
     "output_type": "execute_result"
    }
   ],
   "source": [
    "# Getting prediction and score of the model\n",
    "\n",
    "xg_pred = xg_boost.predict(test_x1)\n",
    "\n",
    "xg_score = r2_score(test_y1, xg_pred)\n",
    "xg_score"
   ]
  },
  {
   "cell_type": "markdown",
   "id": "9ed58ec2",
   "metadata": {},
   "source": [
    "### Combining all the different models to use averaging technique and generating final prediction."
   ]
  },
  {
   "cell_type": "code",
   "execution_count": 52,
   "id": "b3e8942e",
   "metadata": {},
   "outputs": [
    {
     "data": {
      "text/plain": [
       "0.6644762000679889"
      ]
     },
     "execution_count": 52,
     "metadata": {},
     "output_type": "execute_result"
    }
   ],
   "source": [
    "# Averaging all the prediction from models- ridge, knn, random forest, xg boost regressor and obtaining score.\n",
    "\n",
    "combine_pred = (xg_pred + random_pred + ridge_pred + knn_pred)/4\n",
    "\n",
    "combine_score = r2_score(test_y1, combine_pred)\n",
    "combine_score"
   ]
  },
  {
   "cell_type": "markdown",
   "id": "642f2521",
   "metadata": {},
   "source": [
    "The R-square score we get by using averaging technique is:- 0.664476"
   ]
  },
  {
   "cell_type": "code",
   "execution_count": null,
   "id": "d38dd422",
   "metadata": {},
   "outputs": [],
   "source": []
  }
 ],
 "metadata": {
  "kernelspec": {
   "display_name": "Python 3",
   "language": "python",
   "name": "python3"
  },
  "language_info": {
   "codemirror_mode": {
    "name": "ipython",
    "version": 3
   },
   "file_extension": ".py",
   "mimetype": "text/x-python",
   "name": "python",
   "nbconvert_exporter": "python",
   "pygments_lexer": "ipython3",
   "version": "3.8.8"
  }
 },
 "nbformat": 4,
 "nbformat_minor": 5
}
